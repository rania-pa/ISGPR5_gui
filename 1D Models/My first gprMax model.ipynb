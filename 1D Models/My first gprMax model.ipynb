{
 "cells": [
  {
   "cell_type": "code",
   "execution_count": null,
   "metadata": {},
   "outputs": [],
   "source": [
    "# Install libraries and import functions"
   ]
  },
  {
   "cell_type": "code",
   "execution_count": null,
   "metadata": {},
   "outputs": [],
   "source": [
    "run ../setup/preamble.ipynb"
   ]
  },
  {
   "cell_type": "code",
   "execution_count": null,
   "metadata": {},
   "outputs": [],
   "source": [
    "# Use function create_model() to create the input model for gprMax. Provide a filename as input to the function\n",
    "# with the extension '.in'. \n",
    "\n",
    "create_model('test.in')"
   ]
  },
  {
   "cell_type": "code",
   "execution_count": null,
   "metadata": {},
   "outputs": [],
   "source": [
    "# View input file for gprMax\n",
    "\n",
    "view_file('test.in')"
   ]
  },
  {
   "cell_type": "code",
   "execution_count": null,
   "metadata": {},
   "outputs": [],
   "source": [
    "# Run model in gprMax -- A-scan"
   ]
  },
  {
   "cell_type": "code",
   "execution_count": null,
   "metadata": {},
   "outputs": [],
   "source": [
    "run -m gprMax test.in "
   ]
  },
  {
   "cell_type": "code",
   "execution_count": null,
   "metadata": {},
   "outputs": [],
   "source": [
    "# View model\n",
    "\n",
    "gprMax_model('half_space.vti')"
   ]
  },
  {
   "cell_type": "code",
   "execution_count": null,
   "metadata": {},
   "outputs": [],
   "source": [
    "# Get output A-scan data\n",
    "# dataVector, time, receiverPosition = gprMax_Ascan(filename, rx, rxcomponent)\n",
    "\n",
    "out1, time, pos = gprMax_Ascan('test.out', 1, 'Ez')"
   ]
  },
  {
   "cell_type": "code",
   "execution_count": null,
   "metadata": {},
   "outputs": [],
   "source": [
    "# Plot A-scan\n",
    "\n",
    "plot_Ascan(out1,time)"
   ]
  },
  {
   "cell_type": "code",
   "execution_count": null,
   "metadata": {},
   "outputs": [],
   "source": [
    "# Run model in gprMax -- B-scan : Specify parameter -n for number of runs (A-scans) in a B-scan"
   ]
  },
  {
   "cell_type": "code",
   "execution_count": null,
   "metadata": {},
   "outputs": [],
   "source": [
    "run -m gprMax test.in -n 20"
   ]
  },
  {
   "cell_type": "code",
   "execution_count": null,
   "metadata": {},
   "outputs": [],
   "source": [
    "# Get output A-scan data\n",
    "# dataMatrix, time, receiverPositions = gprMax_Bscan(output_filename, rx, rxcomponent)\n",
    "\n",
    "bscan, time, spos = gprMax_Bscan('test.out', 1, 'Ez')"
   ]
  },
  {
   "cell_type": "code",
   "execution_count": null,
   "metadata": {},
   "outputs": [],
   "source": [
    "# Plot B-scan\n",
    "\n",
    "plot_Bscan(bscan,time,time_offset=1)"
   ]
  },
  {
   "cell_type": "code",
   "execution_count": null,
   "metadata": {},
   "outputs": [],
   "source": [
    "# Convert gprMax to dzt using gprMax_to_dzt() function.\n",
    "# gprMax_to_dzt(filename, rx, rxComponent, Center_frequency(MHz), DistanceTx_Rx , Trace_Step)\n",
    "\n",
    "gprMax_to_dzt('test.out', 1, 'Ez', 2000, 0.02, 0.005)"
   ]
  }
 ],
 "metadata": {
  "kernelspec": {
   "display_name": "Python 3",
   "language": "python",
   "name": "python3"
  },
  "language_info": {
   "codemirror_mode": {
    "name": "ipython",
    "version": 3
   },
   "file_extension": ".py",
   "mimetype": "text/x-python",
   "name": "python",
   "nbconvert_exporter": "python",
   "pygments_lexer": "ipython3",
   "version": "3.7.6"
  }
 },
 "nbformat": 4,
 "nbformat_minor": 4
}
